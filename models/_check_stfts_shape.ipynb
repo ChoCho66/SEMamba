{
 "cells": [
  {
   "cell_type": "code",
   "execution_count": 17,
   "metadata": {},
   "outputs": [
    {
     "name": "stdout",
     "output_type": "stream",
     "text": [
      "torch.Size([5, 2257, 286])\n",
      "torch.Size([5, 2257, 286])\n",
      "torch.Size([5, 2257, 286, 2])\n",
      "B,F,T\n",
      "arg0's shape: torch.Size([5, 28500])\n"
     ]
    }
   ],
   "source": [
    "from models.stfts import mag_phase_stft, mag_phase_istft\n",
    "import torch\n",
    "from c66 import pp, pps\n",
    "_n_fft = 4512\n",
    "_ = mag_phase_stft( torch.randn(5,28575),\n",
    "                   n_fft = _n_fft\n",
    "                   )\n",
    "for i in _:\n",
    "    print(i.shape)\n",
    "print(\"B,F,T\")\n",
    "pps(mag_phase_istft(_[0],_[1],\n",
    "                    _n_fft\n",
    "                    ))"
   ]
  },
  {
   "cell_type": "code",
   "execution_count": null,
   "metadata": {},
   "outputs": [
    {
     "name": "stdout",
     "output_type": "stream",
     "text": [
      "torch.Size([5, 201, 85])\n",
      "torch.Size([5, 201, 85])\n",
      "torch.Size([5, 201, 85, 2])\n",
      "B,F,T\n",
      "mag_phase_istft(_[0], _[1])'s shape: torch.Size([5, 8400])\n"
     ]
    }
   ],
   "source": [
    "from models.stfts import mag_phase_stft, mag_phase_istft\n",
    "import torch\n",
    "from c66 import pp, pps\n",
    "_ = mag_phase_stft( torch.randn(5,8400) )\n",
    "\n",
    "for i in _:\n",
    "    print(i.shape)\n",
    "# print(\"B,F,T\")\n",
    "pps(mag_phase_istft(_[0],_[1]))"
   ]
  }
 ],
 "metadata": {
  "kernelspec": {
   "display_name": "Python 3",
   "language": "python",
   "name": "python3"
  },
  "language_info": {
   "codemirror_mode": {
    "name": "ipython",
    "version": 3
   },
   "file_extension": ".py",
   "mimetype": "text/x-python",
   "name": "python",
   "nbconvert_exporter": "python",
   "pygments_lexer": "ipython3",
   "version": "3.11.11"
  }
 },
 "nbformat": 4,
 "nbformat_minor": 2
}
