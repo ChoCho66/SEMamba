{
 "cells": [
  {
   "cell_type": "code",
   "execution_count": 1,
   "metadata": {},
   "outputs": [],
   "source": [
    "from itertools import product\n",
    "from models.generator import SEMamba\n",
    "import torch\n",
    "from utils.util import load_config\n",
    "import os\n",
    "import librosa\n",
    "from models.stfts import mag_phase_stft\n",
    "\n",
    "device = torch.device('cuda:1')\n",
    "config = '/disk4/chocho/SEMamba/exp/VCTK-400/dep4_h64_tf4_ds16_dc4_ex4/config.yaml'\n",
    "checkpoint_file = '/disk4/chocho/SEMamba/exp/VCTK-400/dep4_h64_tf4_ds16_dc4_ex4/g_00093000.pth'\n",
    "cfg = load_config(config)\n",
    "n_fft, hop_size, win_size = cfg['stft_cfg']['n_fft'], cfg['stft_cfg']['hop_size'], cfg['stft_cfg']['win_size']\n",
    "compress_factor = cfg['model_cfg']['compress_factor']\n",
    "sampling_rate = cfg['stft_cfg']['sampling_rate']\n",
    "model = SEMamba(cfg).to(device)\n",
    "state_dict = torch.load(checkpoint_file, map_location=device)\n",
    "model.load_state_dict(state_dict['generator'])\n",
    "model.eval()\n",
    "output_folder = '/disk4/chocho/SEMamba/_202505/encoder-mamba-decoder'\n",
    "os.makedirs(output_folder, exist_ok=True)"
   ]
  },
  {
   "cell_type": "code",
   "execution_count": 2,
   "metadata": {},
   "outputs": [
    {
     "name": "stdout",
     "output_type": "stream",
     "text": [
      "/disk4/chocho/SEMamba/_test_feature_map_clean p226_018.wav\n"
     ]
    },
    {
     "name": "stdout",
     "output_type": "stream",
     "text": [
      "/disk4/chocho/SEMamba/_test_feature_map_clean p227_376.wav\n",
      "/disk4/chocho/SEMamba/_test_feature_map_clean D4_754.wav\n",
      "/disk4/chocho/SEMamba/_test_feature_map_clean p226_016.wav\n",
      "/disk4/chocho/SEMamba/_test_feature_map_clean p230_073.wav\n",
      "/disk4/chocho/SEMamba/_test_feature_map_clean p287_417.wav\n",
      "/disk4/chocho/SEMamba/_test_feature_map_noisy p226_018.wav\n",
      "/disk4/chocho/SEMamba/_test_feature_map_noisy p227_376.wav\n",
      "/disk4/chocho/SEMamba/_test_feature_map_noisy D4_754.wav\n",
      "/disk4/chocho/SEMamba/_test_feature_map_noisy p226_016.wav\n",
      "/disk4/chocho/SEMamba/_test_feature_map_noisy p230_073.wav\n",
      "/disk4/chocho/SEMamba/_test_feature_map_noisy p287_417.wav\n"
     ]
    }
   ],
   "source": [
    "with torch.no_grad():\n",
    "    for clean_or_noisy in  [\"clean\",\"noisy\"]:\n",
    "        input_folder = f'/disk4/chocho/SEMamba/_test_feature_map_{clean_or_noisy}'\n",
    "        for i, fname in enumerate(os.listdir( input_folder )):\n",
    "            print(input_folder, fname)\n",
    "            noisy_wav, _ = librosa.load(os.path.join( input_folder, fname ), sr=sampling_rate)\n",
    "            noisy_wav = torch.FloatTensor(noisy_wav).to(device)\n",
    "            # exit()\n",
    "            norm_factor = torch.sqrt(len(noisy_wav) / torch.sum(noisy_wav ** 2.0)).to(device)\n",
    "            noisy_wav = (noisy_wav * norm_factor).unsqueeze(0)\n",
    "            noisy_amp, noisy_pha, noisy_com = mag_phase_stft(noisy_wav, n_fft, hop_size, win_size, compress_factor)\n",
    "            model.get_feature_map(output_folder, fname, noisy_amp, noisy_pha, clean_or_noisy=clean_or_noisy)"
   ]
  },
  {
   "cell_type": "code",
   "execution_count": 3,
   "metadata": {},
   "outputs": [
    {
     "name": "stdout",
     "output_type": "stream",
     "text": [
      "dense_encoder\n",
      "TSMamba\n",
      "mask_decoder\n",
      "phase_decoder\n"
     ]
    }
   ],
   "source": [
    "for name, module in model.named_children():\n",
    "    print(f\"{name}\")"
   ]
  },
  {
   "cell_type": "code",
   "execution_count": 5,
   "metadata": {},
   "outputs": [],
   "source": [
    "feature_encoder = model.dense_encoder\n",
    "mask_decoder = model.mask_decoder\n",
    "phase_decoder = model.phase_decoder"
   ]
  },
  {
   "cell_type": "code",
   "execution_count": 18,
   "metadata": {},
   "outputs": [
    {
     "data": {
      "text/plain": [
       "TFMambaBlock(\n",
       "  (time_mamba): MambaBlock(\n",
       "    (forward_blocks): ModuleList(\n",
       "      (0): Block(\n",
       "        (mixer): Mamba(\n",
       "          (in_proj): Linear(in_features=64, out_features=512, bias=False)\n",
       "          (conv1d): Conv1d(256, 256, kernel_size=(4,), stride=(1,), padding=(3,), groups=256)\n",
       "          (act): SiLU()\n",
       "          (x_proj): Linear(in_features=256, out_features=36, bias=False)\n",
       "          (dt_proj): Linear(in_features=4, out_features=256, bias=True)\n",
       "          (out_proj): Linear(in_features=256, out_features=64, bias=False)\n",
       "        )\n",
       "        (norm): RMSNorm()\n",
       "      )\n",
       "    )\n",
       "    (backward_blocks): ModuleList(\n",
       "      (0): Block(\n",
       "        (mixer): Mamba(\n",
       "          (in_proj): Linear(in_features=64, out_features=512, bias=False)\n",
       "          (conv1d): Conv1d(256, 256, kernel_size=(4,), stride=(1,), padding=(3,), groups=256)\n",
       "          (act): SiLU()\n",
       "          (x_proj): Linear(in_features=256, out_features=36, bias=False)\n",
       "          (dt_proj): Linear(in_features=4, out_features=256, bias=True)\n",
       "          (out_proj): Linear(in_features=256, out_features=64, bias=False)\n",
       "        )\n",
       "        (norm): RMSNorm()\n",
       "      )\n",
       "    )\n",
       "  )\n",
       "  (freq_mamba): MambaBlock(\n",
       "    (forward_blocks): ModuleList(\n",
       "      (0): Block(\n",
       "        (mixer): Mamba(\n",
       "          (in_proj): Linear(in_features=64, out_features=512, bias=False)\n",
       "          (conv1d): Conv1d(256, 256, kernel_size=(4,), stride=(1,), padding=(3,), groups=256)\n",
       "          (act): SiLU()\n",
       "          (x_proj): Linear(in_features=256, out_features=36, bias=False)\n",
       "          (dt_proj): Linear(in_features=4, out_features=256, bias=True)\n",
       "          (out_proj): Linear(in_features=256, out_features=64, bias=False)\n",
       "        )\n",
       "        (norm): RMSNorm()\n",
       "      )\n",
       "    )\n",
       "    (backward_blocks): ModuleList(\n",
       "      (0): Block(\n",
       "        (mixer): Mamba(\n",
       "          (in_proj): Linear(in_features=64, out_features=512, bias=False)\n",
       "          (conv1d): Conv1d(256, 256, kernel_size=(4,), stride=(1,), padding=(3,), groups=256)\n",
       "          (act): SiLU()\n",
       "          (x_proj): Linear(in_features=256, out_features=36, bias=False)\n",
       "          (dt_proj): Linear(in_features=4, out_features=256, bias=True)\n",
       "          (out_proj): Linear(in_features=256, out_features=64, bias=False)\n",
       "        )\n",
       "        (norm): RMSNorm()\n",
       "      )\n",
       "    )\n",
       "  )\n",
       "  (tlinear): ConvTranspose1d(128, 64, kernel_size=(1,), stride=(1,))\n",
       "  (flinear): ConvTranspose1d(128, 64, kernel_size=(1,), stride=(1,))\n",
       ")"
      ]
     },
     "execution_count": 18,
     "metadata": {},
     "output_type": "execute_result"
    }
   ],
   "source": [
    "model.TSMamba[0]"
   ]
  },
  {
   "cell_type": "code",
   "execution_count": 9,
   "metadata": {},
   "outputs": [
    {
     "data": {
      "text/plain": [
       "MambaBlock(\n",
       "  (forward_blocks): ModuleList(\n",
       "    (0): Block(\n",
       "      (mixer): Mamba(\n",
       "        (in_proj): Linear(in_features=64, out_features=512, bias=False)\n",
       "        (conv1d): Conv1d(256, 256, kernel_size=(4,), stride=(1,), padding=(3,), groups=256)\n",
       "        (act): SiLU()\n",
       "        (x_proj): Linear(in_features=256, out_features=36, bias=False)\n",
       "        (dt_proj): Linear(in_features=4, out_features=256, bias=True)\n",
       "        (out_proj): Linear(in_features=256, out_features=64, bias=False)\n",
       "      )\n",
       "      (norm): RMSNorm()\n",
       "    )\n",
       "  )\n",
       "  (backward_blocks): ModuleList(\n",
       "    (0): Block(\n",
       "      (mixer): Mamba(\n",
       "        (in_proj): Linear(in_features=64, out_features=512, bias=False)\n",
       "        (conv1d): Conv1d(256, 256, kernel_size=(4,), stride=(1,), padding=(3,), groups=256)\n",
       "        (act): SiLU()\n",
       "        (x_proj): Linear(in_features=256, out_features=36, bias=False)\n",
       "        (dt_proj): Linear(in_features=4, out_features=256, bias=True)\n",
       "        (out_proj): Linear(in_features=256, out_features=64, bias=False)\n",
       "      )\n",
       "      (norm): RMSNorm()\n",
       "    )\n",
       "  )\n",
       ")"
      ]
     },
     "execution_count": 9,
     "metadata": {},
     "output_type": "execute_result"
    }
   ],
   "source": [
    "time_mamba0 = model.TSMamba[0].time_mamba\n",
    "time_mamba0"
   ]
  },
  {
   "cell_type": "code",
   "execution_count": 23,
   "metadata": {},
   "outputs": [
    {
     "name": "stdout",
     "output_type": "stream",
     "text": [
      "time_mamba0(torch.randn([10, 286, 64]).to('cuda:1'))'s shape: torch.Size([10, 286, 128])\n",
      "model.TSMamba[0].tlinear(torch.randn([10, 128, 286]).to('cuda:1'))'s shape: torch.Size([10, 64, 286])\n"
     ]
    }
   ],
   "source": [
    "from c66 import pp, pps\n",
    "pps(time_mamba0(torch.randn([10, 286, 64]).to(\"cuda:1\")))\n",
    "pps(model.TSMamba[0].tlinear(torch.randn([10, 128, 286]).to(\"cuda:1\")))"
   ]
  },
  {
   "cell_type": "code",
   "execution_count": 10,
   "metadata": {},
   "outputs": [
    {
     "data": {
      "text/plain": [
       "MambaBlock(\n",
       "  (forward_blocks): ModuleList(\n",
       "    (0): Block(\n",
       "      (mixer): Mamba(\n",
       "        (in_proj): Linear(in_features=64, out_features=512, bias=False)\n",
       "        (conv1d): Conv1d(256, 256, kernel_size=(4,), stride=(1,), padding=(3,), groups=256)\n",
       "        (act): SiLU()\n",
       "        (x_proj): Linear(in_features=256, out_features=36, bias=False)\n",
       "        (dt_proj): Linear(in_features=4, out_features=256, bias=True)\n",
       "        (out_proj): Linear(in_features=256, out_features=64, bias=False)\n",
       "      )\n",
       "      (norm): RMSNorm()\n",
       "    )\n",
       "  )\n",
       "  (backward_blocks): ModuleList(\n",
       "    (0): Block(\n",
       "      (mixer): Mamba(\n",
       "        (in_proj): Linear(in_features=64, out_features=512, bias=False)\n",
       "        (conv1d): Conv1d(256, 256, kernel_size=(4,), stride=(1,), padding=(3,), groups=256)\n",
       "        (act): SiLU()\n",
       "        (x_proj): Linear(in_features=256, out_features=36, bias=False)\n",
       "        (dt_proj): Linear(in_features=4, out_features=256, bias=True)\n",
       "        (out_proj): Linear(in_features=256, out_features=64, bias=False)\n",
       "      )\n",
       "      (norm): RMSNorm()\n",
       "    )\n",
       "  )\n",
       ")"
      ]
     },
     "execution_count": 10,
     "metadata": {},
     "output_type": "execute_result"
    }
   ],
   "source": [
    "freq_mamba0 = model.TSMamba[0].freq_mamba\n",
    "freq_mamba0"
   ]
  }
 ],
 "metadata": {
  "kernelspec": {
   "display_name": "Python 3",
   "language": "python",
   "name": "python3"
  },
  "language_info": {
   "codemirror_mode": {
    "name": "ipython",
    "version": 3
   },
   "file_extension": ".py",
   "mimetype": "text/x-python",
   "name": "python",
   "nbconvert_exporter": "python",
   "pygments_lexer": "ipython3",
   "version": "3.11.11"
  }
 },
 "nbformat": 4,
 "nbformat_minor": 2
}
