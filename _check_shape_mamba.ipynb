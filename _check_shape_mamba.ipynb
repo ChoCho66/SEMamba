{
 "cells": [
  {
   "cell_type": "code",
   "execution_count": null,
   "metadata": {},
   "outputs": [],
   "source": [
    "import selective_scan_cuda"
   ]
  },
  {
   "cell_type": "code",
   "execution_count": null,
   "metadata": {},
   "outputs": [],
   "source": []
  },
  {
   "cell_type": "code",
   "execution_count": 1,
   "metadata": {},
   "outputs": [
    {
     "name": "stdout",
     "output_type": "stream",
     "text": [
      "B,L,D: 7 137 57\n",
      "------ class Mamba in mamba_simple.py -------\n",
      "1111111111111111111111111111111111111111\n",
      "------ class MambaInnerFn in selective_scan_interface.py ------\n",
      "------ selective_scan_cuda.fwd ------\n",
      "===================================================================================================================\n",
      "Layer (type:depth-idx)                   Input Shape               Output Shape              Param #\n",
      "===================================================================================================================\n",
      "Mamba                                    [7, 137, 57]              [7, 137, 57]              43,092\n",
      "===================================================================================================================\n",
      "Total params: 43,092\n",
      "Trainable params: 43,092\n",
      "Non-trainable params: 0\n",
      "Total mult-adds (Units.MEGABYTES): 0\n",
      "===================================================================================================================\n",
      "Input size (MB): 0.22\n",
      "Forward/backward pass size (MB): 0.00\n",
      "Params size (MB): 0.00\n",
      "Estimated Total Size (MB): 0.22\n",
      "===================================================================================================================\n"
     ]
    }
   ],
   "source": [
    "from mamba_ssm.modules.mamba_simple import Mamba\n",
    "\n",
    "import torch\n",
    "# from mamba_ssm import Mamba\n",
    "from torchinfo import summary\n",
    "# from torchprofile import profile_macs\n",
    "\n",
    "batch, length, dim = 7, 137, 57\n",
    "print(\"B,L,D:\",batch, length, dim)\n",
    "x = torch.randn(batch, length, dim).to(\"cuda\")\n",
    "model = Mamba(\n",
    "    # This module uses roughly 3 * expand * d_model^2 parameters\n",
    "    d_model=dim, # Model dimension d_model\n",
    "    d_state=64,  # SSM state expansion factor\n",
    "    d_conv=4,    # Local convolution width\n",
    "    expand=2,    # Block expansion factor\n",
    ").to(\"cuda\")\n",
    "model.eval()\n",
    "\n",
    "# summary_str = summary(model, input_size=[(7, 201, 286), (7, 201, 286)], depth=5, col_names=(\"input_size\", \"output_size\", \"num_params\"), verbose=0)\n",
    "summary_str = summary(model, input_size=x.shape, depth=15, col_names=(\"input_size\", \"output_size\", \"num_params\"), verbose=0)\n",
    "print(summary_str)\n",
    "\n",
    "# y = model(x)\n",
    "# print(x.shape)\n",
    "# print(y.shape)\n",
    "# assert y.shape == x.shape"
   ]
  },
  {
   "cell_type": "code",
   "execution_count": null,
   "metadata": {},
   "outputs": [],
   "source": [
    "from mamba_ssm.modules.mamba_simple import Mamba\n",
    "\n",
    "import torch\n",
    "# from mamba_ssm import Mamba\n",
    "# from torchinfo import summary\n",
    "from torchprofile import profile_macs\n",
    "\n",
    "\n",
    "batch, length, dim = 7, 137, 57\n",
    "print(\"B,L,D:\",batch, length, dim)\n",
    "x = torch.randn(batch, length, dim).to(\"cuda\")\n",
    "model = Mamba(\n",
    "    # This module uses roughly 3 * expand * d_model^2 parameters\n",
    "    d_model=dim, # Model dimension d_model\n",
    "    d_state=64,  # SSM state expansion factor\n",
    "    d_conv=4,    # Local convolution width\n",
    "    expand=2,    # Block expansion factor\n",
    ").to(\"cuda\")\n",
    "model.eval()\n",
    "\n",
    "# 使用 torchprofile 計算 FLOPs\n",
    "macs = profile_macs(model, x)\n",
    "flops = macs * 2  # MACs (Multiply-Accumulate) 通常乘以 2 轉換為 FLOPs\n",
    "\n",
    "# 計算參數量\n",
    "param_count = sum(p.numel() for p in model.parameters() if p.requires_grad)\n",
    "\n",
    "# 輸出結果\n",
    "print(f\"FLOPs: {flops / 1e9:.3f} GFLOPs\")\n",
    "print(f\"參數量: {param_count / 1e6:.3f} M\")\n",
    "\n",
    "\n",
    "# summary_str = summary(model, input_size=[(7, 201, 286), (7, 201, 286)], depth=5, col_names=(\"input_size\", \"output_size\", \"num_params\"), verbose=0)\n",
    "# summary_str = summary(model, input_size=[(batch, length, dim)], depth=15, col_names=(\"input_size\", \"output_size\", \"num_params\"), verbose=0)\n",
    "# print(summary_str)\n",
    "\n",
    "# y = model(x)\n",
    "# print(x.shape)\n",
    "# print(y.shape)\n",
    "# assert y.shape == x.shape"
   ]
  },
  {
   "cell_type": "code",
   "execution_count": null,
   "metadata": {},
   "outputs": [],
   "source": [
    "model.TSMamba"
   ]
  },
  {
   "cell_type": "code",
   "execution_count": null,
   "metadata": {},
   "outputs": [],
   "source": [
    "import torch\n",
    "\n",
    "class SquareFunction(torch.autograd.Function):\n",
    "    @staticmethod\n",
    "    def forward(ctx, input_tensor):\n",
    "        # 儲存 input 給 backward 使用\n",
    "        ctx.save_for_backward(input_tensor)\n",
    "        # 自訂屬性範例（非 tensor）\n",
    "        ctx.note = \"我是 forward 儲存的小抄\"\n",
    "        print(ctx.note)\n",
    "        return input_tensor ** 2\n",
    "\n",
    "    @staticmethod\n",
    "    def backward(ctx, grad_output):\n",
    "        # 取出在 forward 存下來的 tensor\n",
    "        (input_tensor,) = ctx.saved_tensors\n",
    "        print(\"小抄內容：\", ctx.note)\n",
    "        # 根據 y = x^2，dy/dx = 2x\n",
    "        grad_input = 2 * input_tensor * grad_output\n",
    "        return grad_input\n",
    "\n",
    "# 用我們自訂的 Function 包裝一下\n",
    "square = SquareFunction.apply\n",
    "\n",
    "# 建立一個需要 gradient 的 tensor\n",
    "x = torch.tensor([3.0], requires_grad=True)\n",
    "\n",
    "# 呼叫自訂的 forward\n",
    "y = square(x)\n",
    "\n",
    "# 執行 backward\n",
    "y.backward()\n",
    "\n",
    "# 看 gradient\n",
    "print(\"x 的 gradient：\", x.grad)"
   ]
  }
 ],
 "metadata": {
  "kernelspec": {
   "display_name": "Python 3",
   "language": "python",
   "name": "python3"
  },
  "language_info": {
   "codemirror_mode": {
    "name": "ipython",
    "version": 3
   },
   "file_extension": ".py",
   "mimetype": "text/x-python",
   "name": "python",
   "nbconvert_exporter": "python",
   "pygments_lexer": "ipython3",
   "version": "3.11.11"
  }
 },
 "nbformat": 4,
 "nbformat_minor": 2
}
