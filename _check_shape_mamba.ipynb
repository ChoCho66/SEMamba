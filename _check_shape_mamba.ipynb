{
 "cells": [
  {
   "cell_type": "code",
   "execution_count": 18,
   "metadata": {},
   "outputs": [
    {
     "data": {
      "text/plain": [
       "===================================================================================================================\n",
       "Layer (type:depth-idx)                   Input Shape               Output Shape              Param #\n",
       "===================================================================================================================\n",
       "SimpleRNN                                [8, 15, 50]               [8, 15, 50]               --\n",
       "├─RNN: 1-1                               [8, 15, 50]               [8, 15, 20]               3,120\n",
       "├─Linear: 1-2                            [8, 15, 20]               [8, 15, 50]               1,050\n",
       "===================================================================================================================\n",
       "Total params: 4,170\n",
       "Trainable params: 4,170\n",
       "Non-trainable params: 0\n",
       "Total mult-adds (Units.MEGABYTES): 0.38\n",
       "===================================================================================================================\n",
       "Input size (MB): 0.02\n",
       "Forward/backward pass size (MB): 0.07\n",
       "Params size (MB): 0.02\n",
       "Estimated Total Size (MB): 0.11\n",
       "==================================================================================================================="
      ]
     },
     "execution_count": 18,
     "metadata": {},
     "output_type": "execute_result"
    }
   ],
   "source": [
    "import torch\n",
    "import torch.nn as nn\n",
    "from torchinfo import summary\n",
    "\n",
    "class SimpleRNN(nn.Module):\n",
    "    def __init__(self, input_size, hidden_size, output_size, num_layers=3):\n",
    "        super(SimpleRNN, self).__init__()\n",
    "        self.hidden_size = hidden_size\n",
    "        self.num_layers = num_layers\n",
    "        self.rnn = nn.RNN(input_size, hidden_size, num_layers, batch_first=True)\n",
    "        self.fc = nn.Linear(hidden_size, output_size)\n",
    "    \n",
    "    def forward(self, x):\n",
    "        h0 = torch.zeros(self.num_layers, x.size(0), self.hidden_size).to(x.device)\n",
    "        out, _ = self.rnn(x, h0)\n",
    "        out = self.fc(out)\n",
    "        # out = self.fc(out[:, -1, :])  # 取最後一個時間步的輸出\n",
    "        return out\n",
    "\n",
    "# 設定模型參數\n",
    "input_size = 50\n",
    "hidden_size = 20\n",
    "output_size = 50\n",
    "num_layers = 3\n",
    "\n",
    "# 初始化模型\n",
    "model = SimpleRNN(input_size, hidden_size, output_size, num_layers)\n",
    "\n",
    "# 顯示模型資訊\n",
    "dummy_input = torch.randn(8, 15, input_size)  # (batch_size=8, sequence_length=15, input_size=10)\n",
    "summary(model, input_data=dummy_input, depth=15, col_names=(\"input_size\", \"output_size\", \"num_params\"))"
   ]
  },
  {
   "cell_type": "code",
   "execution_count": 3,
   "metadata": {},
   "outputs": [],
   "source": [
    "import selective_scan_cuda"
   ]
  },
  {
   "cell_type": "code",
   "execution_count": 2,
   "metadata": {},
   "outputs": [
    {
     "name": "stdout",
     "output_type": "stream",
     "text": [
      "B,L,D: 7 137 37\n",
      "Mamba\n",
      "batch, seqlen, dim: 7 137 37\n",
      "xz.shape: torch.Size([7, 148, 137])\n",
      "1111111111111111111111111111111111111111\n",
      "MambaInnerFn\n",
      "xz.shape: torch.Size([7, 148, 137])\n",
      "x.shape, z.shape: torch.Size([7, 74, 137]) torch.Size([7, 74, 137])\n",
      "conv1d_out.shape: torch.Size([7, 74, 137])\n",
      "x_dbl.shape: torch.Size([959, 35])\n",
      "torch.Size([7, 137, 37])\n",
      "torch.Size([7, 137, 37])\n"
     ]
    }
   ],
   "source": [
    "from mamba_ssm.modules.mamba_simple import Mamba\n",
    "\n",
    "import torch\n",
    "# from mamba_ssm import Mamba\n",
    "from torchinfo import summary\n",
    "\n",
    "\n",
    "batch, length, dim = 7, 137, 37\n",
    "print(\"B,L,D:\",batch, length, dim)\n",
    "x = torch.randn(batch, length, dim).to(\"cuda\")\n",
    "model = Mamba(\n",
    "    # This module uses roughly 3 * expand * d_model^2 parameters\n",
    "    d_model=dim, # Model dimension d_model\n",
    "    d_state=16,  # SSM state expansion factor\n",
    "    d_conv=4,    # Local convolution width\n",
    "    expand=2,    # Block expansion factor\n",
    ").to(\"cuda\")\n",
    "\n",
    "# summary_str = summary(model, input_size=[(7, 201, 286), (7, 201, 286)], depth=5, col_names=(\"input_size\", \"output_size\", \"num_params\"), verbose=0)\n",
    "# summary_str = summary(model, input_size=[(batch, length, dim)], depth=15, col_names=(\"input_size\", \"output_size\", \"num_params\"), verbose=0)\n",
    "# print(summary_str)\n",
    "\n",
    "y = model(x)\n",
    "print(x.shape)\n",
    "print(y.shape)\n",
    "assert y.shape == x.shape"
   ]
  },
  {
   "cell_type": "code",
   "execution_count": 5,
   "metadata": {},
   "outputs": [
    {
     "name": "stdout",
     "output_type": "stream",
     "text": [
      "我是 forward 儲存的小抄\n",
      "小抄內容： 我是 forward 儲存的小抄\n",
      "x 的 gradient： tensor([6.])\n"
     ]
    }
   ],
   "source": [
    "import torch\n",
    "\n",
    "class SquareFunction(torch.autograd.Function):\n",
    "    @staticmethod\n",
    "    def forward(ctx, input_tensor):\n",
    "        # 儲存 input 給 backward 使用\n",
    "        ctx.save_for_backward(input_tensor)\n",
    "        # 自訂屬性範例（非 tensor）\n",
    "        ctx.note = \"我是 forward 儲存的小抄\"\n",
    "        print(ctx.note)\n",
    "        return input_tensor ** 2\n",
    "\n",
    "    @staticmethod\n",
    "    def backward(ctx, grad_output):\n",
    "        # 取出在 forward 存下來的 tensor\n",
    "        (input_tensor,) = ctx.saved_tensors\n",
    "        print(\"小抄內容：\", ctx.note)\n",
    "        # 根據 y = x^2，dy/dx = 2x\n",
    "        grad_input = 2 * input_tensor * grad_output\n",
    "        return grad_input\n",
    "\n",
    "# 用我們自訂的 Function 包裝一下\n",
    "square = SquareFunction.apply\n",
    "\n",
    "# 建立一個需要 gradient 的 tensor\n",
    "x = torch.tensor([3.0], requires_grad=True)\n",
    "\n",
    "# 呼叫自訂的 forward\n",
    "y = square(x)\n",
    "\n",
    "# 執行 backward\n",
    "y.backward()\n",
    "\n",
    "# 看 gradient\n",
    "print(\"x 的 gradient：\", x.grad)"
   ]
  }
 ],
 "metadata": {
  "kernelspec": {
   "display_name": "Python 3",
   "language": "python",
   "name": "python3"
  },
  "language_info": {
   "codemirror_mode": {
    "name": "ipython",
    "version": 3
   },
   "file_extension": ".py",
   "mimetype": "text/x-python",
   "name": "python",
   "nbconvert_exporter": "python",
   "pygments_lexer": "ipython3",
   "version": "3.11.11"
  }
 },
 "nbformat": 4,
 "nbformat_minor": 2
}
