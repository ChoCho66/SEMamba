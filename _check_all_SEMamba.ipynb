{
 "cells": [
  {
   "cell_type": "code",
   "execution_count": null,
   "metadata": {},
   "outputs": [
    {
     "name": "stdout",
     "output_type": "stream",
     "text": [
      "x's shape: torch.Size([31, 7, 11, 13])\n",
      "output's shape: torch.Size([31, 7, 11, 13])\n"
     ]
    },
    {
     "name": "stderr",
     "output_type": "stream",
     "text": [
      "/disk4/chocho/speechbrain/.speechbrain/lib/python3.11/site-packages/torch/nn/modules/instancenorm.py:80: UserWarning: input's size at dim=1 does not match num_features. You can silence this warning by not passing in num_features, which is not used because affine=False\n",
      "  warnings.warn(f\"input's size at dim={feature_dim} does not match num_features. \"\n"
     ]
    }
   ],
   "source": [
    "import torch\n",
    "import torch.nn as nn\n",
    "from c66 import *\n",
    "\n",
    "x = torch.randn(31,7,11,13)\n",
    "#m = nn.InstanceNorm2d(3, affine=True)\n",
    "m = nn.InstanceNorm2d(3) #feature数量，即channel number = 3\n",
    "output = m(x)\n",
    "pps(x,output)"
   ]
  },
  {
   "cell_type": "code",
   "execution_count": 12,
   "metadata": {},
   "outputs": [
    {
     "name": "stdout",
     "output_type": "stream",
     "text": [
      "x's shape: torch.Size([31, 7, 11, 13])\n",
      "output's shape: torch.Size([31, 7, 11, 13])\n"
     ]
    }
   ],
   "source": [
    "import torch\n",
    "import torch.nn as nn\n",
    "from c66 import *\n",
    "\n",
    "x = torch.randn(31,7,11,13)\n",
    "m = nn.InstanceNorm2d(7, affine=True)\n",
    "# m = nn.InstanceNorm2d(3) #feature数量，即channel number = 3\n",
    "output = m(x)\n",
    "pps(x,output)"
   ]
  },
  {
   "cell_type": "code",
   "execution_count": 6,
   "metadata": {},
   "outputs": [
    {
     "name": "stdout",
     "output_type": "stream",
     "text": [
      "m.weight's shape: torch.Size([7])\n",
      "m.bias's shape: torch.Size([7])\n"
     ]
    }
   ],
   "source": [
    "pps(m.weight, m.bias)"
   ]
  },
  {
   "cell_type": "code",
   "execution_count": 8,
   "metadata": {},
   "outputs": [
    {
     "data": {
      "text/plain": [
       "(Parameter containing:\n",
       " tensor([1., 1., 1., 1., 1., 1., 1.], requires_grad=True),\n",
       " Parameter containing:\n",
       " tensor([0., 0., 0., 0., 0., 0., 0.], requires_grad=True))"
      ]
     },
     "execution_count": 8,
     "metadata": {},
     "output_type": "execute_result"
    }
   ],
   "source": [
    "m.weight, m.bias"
   ]
  },
  {
   "cell_type": "code",
   "execution_count": 3,
   "metadata": {},
   "outputs": [
    {
     "data": {
      "text/plain": [
       "==========================================================================================\n",
       "Layer (type:depth-idx)                   Output Shape              Param #\n",
       "==========================================================================================\n",
       "PReLU                                    [3, 7, 11, 13, 17]        1\n",
       "==========================================================================================\n",
       "Total params: 1\n",
       "Trainable params: 1\n",
       "Non-trainable params: 0\n",
       "Total mult-adds (Units.MEGABYTES): 0.00\n",
       "==========================================================================================\n",
       "Input size (MB): 0.20\n",
       "Forward/backward pass size (MB): 0.41\n",
       "Params size (MB): 0.00\n",
       "Estimated Total Size (MB): 0.61\n",
       "=========================================================================================="
      ]
     },
     "execution_count": 3,
     "metadata": {},
     "output_type": "execute_result"
    }
   ],
   "source": [
    "import torch.nn as nn\n",
    "import torch\n",
    "from torchinfo import summary\n",
    "m = nn.PReLU(1)\n",
    "x = torch.randn(3,7,11,13,17)\n",
    "summary(m, input_size=x.shape)  # (batch_size, channels, height, width)"
   ]
  },
  {
   "cell_type": "code",
   "execution_count": 4,
   "metadata": {},
   "outputs": [
    {
     "data": {
      "text/plain": [
       "==========================================================================================\n",
       "Layer (type:depth-idx)                   Output Shape              Param #\n",
       "==========================================================================================\n",
       "PReLU                                    [3, 7, 11, 13, 17]        7\n",
       "==========================================================================================\n",
       "Total params: 7\n",
       "Trainable params: 7\n",
       "Non-trainable params: 0\n",
       "Total mult-adds (Units.MEGABYTES): 0.00\n",
       "==========================================================================================\n",
       "Input size (MB): 0.20\n",
       "Forward/backward pass size (MB): 0.41\n",
       "Params size (MB): 0.00\n",
       "Estimated Total Size (MB): 0.61\n",
       "=========================================================================================="
      ]
     },
     "execution_count": 4,
     "metadata": {},
     "output_type": "execute_result"
    }
   ],
   "source": [
    "import torch.nn as nn\n",
    "import torch\n",
    "from torchinfo import summary\n",
    "x = torch.randn(3,7,11,13,17)\n",
    "m = nn.PReLU(7)\n",
    "summary(m, input_size=x.shape)  # (batch_size, channels, height, width)"
   ]
  }
 ],
 "metadata": {
  "kernelspec": {
   "display_name": "Python 3",
   "language": "python",
   "name": "python3"
  },
  "language_info": {
   "codemirror_mode": {
    "name": "ipython",
    "version": 3
   },
   "file_extension": ".py",
   "mimetype": "text/x-python",
   "name": "python",
   "nbconvert_exporter": "python",
   "pygments_lexer": "ipython3",
   "version": "3.11.11"
  }
 },
 "nbformat": 4,
 "nbformat_minor": 2
}
