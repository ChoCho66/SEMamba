{
 "cells": [
  {
   "cell_type": "code",
   "execution_count": 1,
   "metadata": {},
   "outputs": [
    {
     "name": "stderr",
     "output_type": "stream",
     "text": [
      "/disk4/chocho/SEMamba/.SEMamba/lib/python3.9/site-packages/tqdm/auto.py:21: TqdmWarning: IProgress not found. Please update jupyter and ipywidgets. See https://ipywidgets.readthedocs.io/en/stable/user_install.html\n",
      "  from .autonotebook import tqdm as notebook_tqdm\n"
     ]
    }
   ],
   "source": [
    "import glob\n",
    "import os\n",
    "import argparse\n",
    "import json\n",
    "import torch\n",
    "import librosa\n",
    "from models.stfts import mag_phase_stft, mag_phase_istft\n",
    "from models.generator import SEMamba\n",
    "from models.pcs400 import cal_pcs\n",
    "import soundfile as sf\n",
    "\n",
    "from utils.util import (\n",
    "    load_ckpts, load_optimizer_states, save_checkpoint,\n",
    "    build_env, load_config, initialize_seed, \n",
    "    print_gpu_info, log_model_info, initialize_process_group,\n",
    ")"
   ]
  },
  {
   "cell_type": "code",
   "execution_count": 3,
   "metadata": {},
   "outputs": [],
   "source": [
    "import numpy as np\n",
    "import librosa\n",
    "from scipy.io import wavfile\n",
    "\n",
    "# 參數設定\n",
    "sampling_rate = 16000  # Hz\n",
    "n_fft = 400           # FFT 大小\n",
    "hop_size = 100        # 每幀間的樣本數\n",
    "win_size = 400        # 窗函數大小"
   ]
  },
  {
   "cell_type": "code",
   "execution_count": null,
   "metadata": {},
   "outputs": [],
   "source": [
    "model = SEMamba(cfg).to(\"cuda\")"
   ]
  },
  {
   "cell_type": "code",
   "execution_count": null,
   "metadata": {},
   "outputs": [],
   "source": [
    "def inference(args, device):\n",
    "    cfg = load_config(args.config)\n",
    "    n_fft, hop_size, win_size = cfg['stft_cfg']['n_fft'], cfg['stft_cfg']['hop_size'], cfg['stft_cfg']['win_size']\n",
    "    compress_factor = cfg['model_cfg']['compress_factor']\n",
    "    sampling_rate = cfg['stft_cfg']['sampling_rate']\n",
    "\n",
    "    model = SEMamba(cfg).to(device)\n",
    "    state_dict = torch.load(args.checkpoint_file, map_location=device)\n",
    "    model.load_state_dict(state_dict['generator'])\n",
    "\n",
    "    os.makedirs(args.output_folder, exist_ok=True)\n",
    "\n",
    "    model.eval()\n",
    "\n",
    "    with torch.no_grad():\n",
    "        # You can use data.json instead of input_folder with:\n",
    "        # ---------------------------------------------------- #\n",
    "        # with open(\"data/test_noisy.json\", 'r') as json_file:\n",
    "        #     test_files = json.load(json_file)\n",
    "        # for i, fname in enumerate( test_files ): \n",
    "        #     folder_path = os.path.dirname(fname)\n",
    "        #     fname = os.path.basename(fname)\n",
    "        #     noisy_wav, _ = librosa.load(os.path.join( folder_path, fname ), sr=sampling_rate)\n",
    "        #     noisy_wav = torch.FloatTensor(noisy_wav).to(device)\n",
    "        # ---------------------------------------------------- #\n",
    "        for i, fname in enumerate(os.listdir( args.input_folder )):\n",
    "            print(fname, args.input_folder)\n",
    "            noisy_wav, _ = librosa.load(os.path.join( args.input_folder, fname ), sr=sampling_rate)\n",
    "            noisy_wav = torch.FloatTensor(noisy_wav).to(device)\n",
    "\n",
    "            norm_factor = torch.sqrt(len(noisy_wav) / torch.sum(noisy_wav ** 2.0)).to(device)\n",
    "            noisy_wav = (noisy_wav * norm_factor).unsqueeze(0)\n",
    "            noisy_amp, noisy_pha, noisy_com = mag_phase_stft(noisy_wav, n_fft, hop_size, win_size, compress_factor)\n",
    "            amp_g, pha_g, com_g = model(noisy_amp, noisy_pha)\n",
    "            audio_g = mag_phase_istft(amp_g, pha_g, n_fft, hop_size, win_size, compress_factor)\n",
    "            audio_g = audio_g / norm_factor\n",
    "\n",
    "            output_file = os.path.join(args.output_folder, fname)\n",
    "\n",
    "            if args.post_processing_PCS == True:\n",
    "                audio_g = cal_pcs(audio_g.squeeze().cpu().numpy())\n",
    "                # sf.write(output_file, audio_g, sampling_rate, 'PCM_16')\n",
    "                sf.write(output_file, audio_g, sampling_rate, subtype='FLOAT')\n",
    "            else:\n",
    "                # sf.write(output_file, audio_g.squeeze().cpu().numpy(), sampling_rate, 'PCM_16')\n",
    "                sf.write(output_file, audio_g.squeeze().cpu().numpy(), sampling_rate, subtype='FLOAT')"
   ]
  }
 ],
 "metadata": {
  "kernelspec": {
   "display_name": "Python 3",
   "language": "python",
   "name": "python3"
  },
  "language_info": {
   "codemirror_mode": {
    "name": "ipython",
    "version": 3
   },
   "file_extension": ".py",
   "mimetype": "text/x-python",
   "name": "python",
   "nbconvert_exporter": "python",
   "pygments_lexer": "ipython3",
   "version": "3.9.21"
  }
 },
 "nbformat": 4,
 "nbformat_minor": 2
}
